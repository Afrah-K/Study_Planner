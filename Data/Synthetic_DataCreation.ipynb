{
 "cells": [
  {
   "cell_type": "code",
   "execution_count": 1,
   "metadata": {},
   "outputs": [
    {
     "ename": "AttributeError",
     "evalue": "'DataDescriber' object has no attribute 'fit'",
     "output_type": "error",
     "traceback": [
      "\u001b[1;31m---------------------------------------------------------------------------\u001b[0m",
      "\u001b[1;31mAttributeError\u001b[0m                            Traceback (most recent call last)",
      "\u001b[1;32mc:\\Users\\rasua\\OneDrive\\Documents\\GitHub\\WWCodeHack-2023\\Data\\Synthetic_DataCreation.ipynb Cell 1\u001b[0m line \u001b[0;36m2\n\u001b[0;32m     <a href='vscode-notebook-cell:/c%3A/Users/rasua/OneDrive/Documents/GitHub/WWCodeHack-2023/Data/Synthetic_DataCreation.ipynb#W0sZmlsZQ%3D%3D?line=23'>24</a>\u001b[0m \u001b[39m# Train DataSynthesizer\u001b[39;00m\n\u001b[0;32m     <a href='vscode-notebook-cell:/c%3A/Users/rasua/OneDrive/Documents/GitHub/WWCodeHack-2023/Data/Synthetic_DataCreation.ipynb#W0sZmlsZQ%3D%3D?line=24'>25</a>\u001b[0m describer \u001b[39m=\u001b[39m DataDescriber(category_threshold\u001b[39m=\u001b[39m\u001b[39m100\u001b[39m)\n\u001b[1;32m---> <a href='vscode-notebook-cell:/c%3A/Users/rasua/OneDrive/Documents/GitHub/WWCodeHack-2023/Data/Synthetic_DataCreation.ipynb#W0sZmlsZQ%3D%3D?line=25'>26</a>\u001b[0m describer\u001b[39m.\u001b[39;49mfit(real_data, attribute_types, categorical_attributes, ordinal_attributes, max_parents)\n\u001b[0;32m     <a href='vscode-notebook-cell:/c%3A/Users/rasua/OneDrive/Documents/GitHub/WWCodeHack-2023/Data/Synthetic_DataCreation.ipynb#W0sZmlsZQ%3D%3D?line=27'>28</a>\u001b[0m \u001b[39m# Display Bayesian Network\u001b[39;00m\n\u001b[0;32m     <a href='vscode-notebook-cell:/c%3A/Users/rasua/OneDrive/Documents/GitHub/WWCodeHack-2023/Data/Synthetic_DataCreation.ipynb#W0sZmlsZQ%3D%3D?line=28'>29</a>\u001b[0m display_bayesian_network(describer\u001b[39m.\u001b[39mbayesian_network)\n",
      "\u001b[1;31mAttributeError\u001b[0m: 'DataDescriber' object has no attribute 'fit'"
     ]
    }
   ],
   "source": [
    "import pandas as pd\n",
    "from DataSynthesizer.DataDescriber import DataDescriber\n",
    "from DataSynthesizer.DataGenerator import DataGenerator\n",
    "from DataSynthesizer.ModelInspector import ModelInspector\n",
    "from DataSynthesizer.lib.utils import display_bayesian_network\n",
    "\n",
    "# Load your real dataset from CSV\n",
    "real_data = pd.read_csv('final_data.csv')\n",
    "\n",
    "# Specify categorical and ordinal attributes\n",
    "categorical_attributes = ['Gender', 'Course', 'Attendance']\n",
    "ordinal_attributes = ['Academic', '6', '7', '8', '9', '10', '11', '12', '13', '14', '15', '16', '17']\n",
    "\n",
    "# Specify the attribute types\n",
    "attribute_types = {'Age': 'categorical', 'Gender': 'categorical', 'Course': 'categorical',\n",
    "                   'Academic': 'ordinal', 'Attendance': 'categorical',\n",
    "                   '6': 'ordinal', '7': 'ordinal', '8': 'ordinal', '9': 'ordinal',\n",
    "                   '10': 'ordinal', '11': 'ordinal', '12': 'ordinal', '13': 'ordinal',\n",
    "                   '14': 'ordinal', '15': 'ordinal', '16': 'ordinal', '17': 'ordinal'}\n",
    "\n",
    "# Specify the maximum number of parents in Bayesian Network\n",
    "max_parents = 2\n",
    "\n",
    "# Train DataSynthesizer\n",
    "describer = DataDescriber(category_threshold=100)\n",
    "describer.fit(real_data, attribute_types, categorical_attributes, ordinal_attributes, max_parents)\n",
    "\n",
    "# Display Bayesian Network\n",
    "display_bayesian_network(describer.bayesian_network)\n",
    "\n",
    "# Generate synthetic data\n",
    "synthesizer = DataGenerator()\n",
    "synthetic_data = synthesizer.sample(describer, num_rows=len(real_data))\n",
    "\n",
    "# Display synthetic data\n",
    "print(synthetic_data)\n",
    "\n",
    "max_parents = 2\n",
    "\n",
    "\n",
    "\n",
    "# Train DataSynthesizer\n",
    "describer = DataDescriber(category_threshold=100, epsilon=0.1)\n",
    "describer.fit(real_data, attribute_types, categorical_attributes, ordinal_attributes, max_parents)\n",
    "\n",
    "# Display Bayesian Network\n",
    "display_bayesian_network(describer.bayesian_network)\n",
    "\n",
    "# Generate synthetic data\n",
    "synthesizer = DataGenerator()\n",
    "synthetic_data = synthesizer.sample(describer, num_rows=len(real_data))\n",
    "\n",
    "# Display synthetic data\n",
    "print(synthetic_data)"
   ]
  }
 ],
 "metadata": {
  "kernelspec": {
   "display_name": "Python 3",
   "language": "python",
   "name": "python3"
  },
  "language_info": {
   "codemirror_mode": {
    "name": "ipython",
    "version": 3
   },
   "file_extension": ".py",
   "mimetype": "text/x-python",
   "name": "python",
   "nbconvert_exporter": "python",
   "pygments_lexer": "ipython3",
   "version": "3.11.0"
  }
 },
 "nbformat": 4,
 "nbformat_minor": 2
}
